{
 "cells": [
  {
   "cell_type": "markdown",
   "metadata": {},
   "source": [
    "<h2>Aufgabe 1: Python-Datei importieren</h2>"
   ]
  },
  {
   "cell_type": "markdown",
   "metadata": {
    "markup_type": "markup_task"
   },
   "source": [
    "Im gleichen Unterordner befindet sich eine Python-Datei gruesse.py. Darin ist folgende Methode definiert:<br>\n",
    "<code>def liebeGruesse(pName):\n",
    "\treturn \"Liebe Grüße, \" + pName\n",
    "    </code><br>\n",
    "    \n",
    "Importiere die Python-Datei und führe die Methode <code> liebeGruesse </code> aus, sodass Du mit Deinem Namen grüßen kannst."
   ]
  },
  {
   "cell_type": "code",
   "execution_count": 1,
   "metadata": {},
   "outputs": [
    {
     "ename": "ModuleNotFoundError",
     "evalue": "No module named 'gruesse'",
     "output_type": "error",
     "traceback": [
      "\u001b[1;31m---------------------------------------------------------------------------\u001b[0m",
      "\u001b[1;31mModuleNotFoundError\u001b[0m                       Traceback (most recent call last)",
      "\u001b[1;32m<ipython-input-1-3a9dfda0ed4a>\u001b[0m in \u001b[0;36m<module>\u001b[1;34m\u001b[0m\n\u001b[0;32m      1\u001b[0m \u001b[1;31m#Platz für Deine Lösung:\u001b[0m\u001b[1;33m\u001b[0m\u001b[1;33m\u001b[0m\u001b[1;33m\u001b[0m\u001b[0m\n\u001b[1;32m----> 2\u001b[1;33m \u001b[1;32mfrom\u001b[0m \u001b[0mgruesse\u001b[0m \u001b[1;32mimport\u001b[0m \u001b[0mliebeGruesse\u001b[0m\u001b[1;33m;\u001b[0m\u001b[1;33m\u001b[0m\u001b[1;33m\u001b[0m\u001b[0m\n\u001b[0m\u001b[0;32m      3\u001b[0m \u001b[0mliebeGruesse\u001b[0m\u001b[1;33m(\u001b[0m\u001b[1;34m\"Klaus\"\u001b[0m\u001b[1;33m)\u001b[0m\u001b[1;33m;\u001b[0m\u001b[1;33m\u001b[0m\u001b[1;33m\u001b[0m\u001b[0m\n\u001b[0;32m      4\u001b[0m \u001b[0mprint\u001b[0m\u001b[1;33m(\u001b[0m\u001b[1;34m\"Tach\"\u001b[0m\u001b[1;33m)\u001b[0m\u001b[1;33m;\u001b[0m\u001b[1;33m\u001b[0m\u001b[1;33m\u001b[0m\u001b[0m\n",
      "\u001b[1;31mModuleNotFoundError\u001b[0m: No module named 'gruesse'"
     ]
    }
   ],
   "source": [
    "#Platz für Deine Lösung:\n",
    "from gruesse import liebeGruesse;\n",
    "liebeGruesse(\"Klaus\");\n",
    "print(\"Tach\");"
   ]
  },
  {
   "cell_type": "markdown",
   "metadata": {
    "markup_type": "markup_hint"
   },
   "source": [
    "<h3>Lösung:</h3><br>\n",
    "<code>import gruesse</code><br>\n",
    "<code>gruesse.liebeGruesse(\"Sven\") #Lösung für Sven</code>"
   ]
  },
  {
   "cell_type": "markdown",
   "metadata": {},
   "source": [
    "<h2>Aufgabe 2: Python-Datei erstellen und importieren</h2>"
   ]
  },
  {
   "cell_type": "markdown",
   "metadata": {
    "markup_type": "markup_task"
   },
   "source": [
    "Erstelle eine eigene .py-Datei, in der Du eine Methode definierst, mit der Du eine Person verabschieden kannst. Importiere die Datei dann hier im Notebook und rufe die Methode auf, um Sven zu verabschieden.\n",
    "\n",
    "<i>Tipp: Du kannst die Python-Datei in einem beliebigen Texteditor schreiben und sie dann in das Jupyter-Verzeichnis über den \"Upload\"-Button laden.<br> \n",
    "Alternativ kannst Du die Datei auch durch Klick auf \"New\" -> \"Text File\" im Jupyter-Ordner erstellen. Anschließend musst Du sie nur noch treffend benennen und die-py-Endung anhängen.</i>"
   ]
  },
  {
   "cell_type": "code",
   "execution_count": 3,
   "metadata": {},
   "outputs": [],
   "source": [
    "#Platz für Deine Lösung:\n",
    "from verabschiede import verabschiede as v;\n",
    "myText = v(\"Klaus\")"
   ]
  },
  {
   "cell_type": "code",
   "execution_count": 5,
   "metadata": {},
   "outputs": [
    {
     "name": "stdout",
     "output_type": "stream",
     "text": [
      "Tschüss, du alte Pottsau. Ergebenst, ihr Klaus\n"
     ]
    }
   ],
   "source": [
    "print(myText);"
   ]
  }
 ],
 "metadata": {
  "kernelspec": {
   "display_name": "Python 3",
   "language": "python",
   "name": "python3"
  },
  "language_info": {
   "codemirror_mode": {
    "name": "ipython",
    "version": 3
   },
   "file_extension": ".py",
   "mimetype": "text/x-python",
   "name": "python",
   "nbconvert_exporter": "python",
   "pygments_lexer": "ipython3",
   "version": "3.8.8"
  },
  "toc": {
   "base_numbering": 1,
   "nav_menu": {},
   "number_sections": true,
   "sideBar": true,
   "skip_h1_title": false,
   "title_cell": "Table of Contents",
   "title_sidebar": "Contents",
   "toc_cell": false,
   "toc_position": {},
   "toc_section_display": true,
   "toc_window_display": false
  }
 },
 "nbformat": 4,
 "nbformat_minor": 4
}
